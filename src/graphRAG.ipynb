{
  "nbformat": 4,
  "nbformat_minor": 0,
  "metadata": {
    "colab": {
      "provenance": [],
      "gpuType": "T4"
    },
    "kernelspec": {
      "name": "python3",
      "display_name": "Python 3"
    },
    "language_info": {
      "name": "python"
    }
  },
  "cells": [
    {
      "cell_type": "code",
      "source": [
        "# Clone the repository (if it's on GitHub)\n",
        "!git clone https://github.com/Saarthakkj/FigureQA-baseline\n",
        "# If you need to upload files manually, use this:\n",
        "# from google.colab import files\n",
        "# files.upload()  # This will prompt you to upload your files"
      ],
      "metadata": {
        "id": "r1rNHm-BGllP",
        "colab": {
          "base_uri": "https://localhost:8080/"
        },
        "outputId": "3e8d01f1-4401-44f0-aeed-ac8b8a23dacf"
      },
      "execution_count": null,
      "outputs": [
        {
          "output_type": "stream",
          "name": "stdout",
          "text": [
            "Cloning into 'FigureQA-baseline'...\n",
            "remote: Enumerating objects: 52, done.\u001b[K\n",
            "remote: Counting objects: 100% (35/35), done.\u001b[K\n",
            "remote: Compressing objects: 100% (26/26), done.\u001b[K\n",
            "remote: Total 52 (delta 7), reused 34 (delta 7), pack-reused 17 (from 1)\u001b[K\n",
            "Receiving objects: 100% (52/52), 66.60 KiB | 1.01 MiB/s, done.\n",
            "Resolving deltas: 100% (9/9), done.\n"
          ]
        }
      ]
    },
    {
      "cell_type": "code",
      "source": [
        "# Install any required dependencies\n",
        "!pip install -r FigureQA-baseline/requirements.txt  # if you have a requirements.txt file"
      ],
      "metadata": {
        "colab": {
          "base_uri": "https://localhost:8080/"
        },
        "id": "Our-fpP1JD4e",
        "outputId": "78591e80-7f23-43bf-ee50-bd3a8c5ac69c"
      },
      "execution_count": 102,
      "outputs": [
        {
          "output_type": "stream",
          "name": "stdout",
          "text": [
            "Requirement already satisfied: matplotlib>=2.1.2 in /usr/local/lib/python3.11/dist-packages (from -r FigureQA-baseline/requirements.txt (line 1)) (3.10.0)\n",
            "Requirement already satisfied: numpy>=1.14.0 in /usr/local/lib/python3.11/dist-packages (from -r FigureQA-baseline/requirements.txt (line 2)) (1.26.4)\n",
            "Requirement already satisfied: pandas>=0.22.0 in /usr/local/lib/python3.11/dist-packages (from -r FigureQA-baseline/requirements.txt (line 3)) (2.2.2)\n",
            "Requirement already satisfied: tensorflow>=1.4.0 in /usr/local/lib/python3.11/dist-packages (from -r FigureQA-baseline/requirements.txt (line 4)) (2.18.0)\n",
            "Requirement already satisfied: tqdm>=4.19.4 in /usr/local/lib/python3.11/dist-packages (from -r FigureQA-baseline/requirements.txt (line 5)) (4.67.1)\n",
            "Requirement already satisfied: contourpy>=1.0.1 in /usr/local/lib/python3.11/dist-packages (from matplotlib>=2.1.2->-r FigureQA-baseline/requirements.txt (line 1)) (1.3.1)\n",
            "Requirement already satisfied: cycler>=0.10 in /usr/local/lib/python3.11/dist-packages (from matplotlib>=2.1.2->-r FigureQA-baseline/requirements.txt (line 1)) (0.12.1)\n",
            "Requirement already satisfied: fonttools>=4.22.0 in /usr/local/lib/python3.11/dist-packages (from matplotlib>=2.1.2->-r FigureQA-baseline/requirements.txt (line 1)) (4.56.0)\n",
            "Requirement already satisfied: kiwisolver>=1.3.1 in /usr/local/lib/python3.11/dist-packages (from matplotlib>=2.1.2->-r FigureQA-baseline/requirements.txt (line 1)) (1.4.8)\n",
            "Requirement already satisfied: packaging>=20.0 in /usr/local/lib/python3.11/dist-packages (from matplotlib>=2.1.2->-r FigureQA-baseline/requirements.txt (line 1)) (24.2)\n",
            "Requirement already satisfied: pillow>=8 in /usr/local/lib/python3.11/dist-packages (from matplotlib>=2.1.2->-r FigureQA-baseline/requirements.txt (line 1)) (11.1.0)\n",
            "Requirement already satisfied: pyparsing>=2.3.1 in /usr/local/lib/python3.11/dist-packages (from matplotlib>=2.1.2->-r FigureQA-baseline/requirements.txt (line 1)) (3.2.1)\n",
            "Requirement already satisfied: python-dateutil>=2.7 in /usr/local/lib/python3.11/dist-packages (from matplotlib>=2.1.2->-r FigureQA-baseline/requirements.txt (line 1)) (2.8.2)\n",
            "Requirement already satisfied: pytz>=2020.1 in /usr/local/lib/python3.11/dist-packages (from pandas>=0.22.0->-r FigureQA-baseline/requirements.txt (line 3)) (2025.1)\n",
            "Requirement already satisfied: tzdata>=2022.7 in /usr/local/lib/python3.11/dist-packages (from pandas>=0.22.0->-r FigureQA-baseline/requirements.txt (line 3)) (2025.1)\n",
            "Requirement already satisfied: absl-py>=1.0.0 in /usr/local/lib/python3.11/dist-packages (from tensorflow>=1.4.0->-r FigureQA-baseline/requirements.txt (line 4)) (1.4.0)\n",
            "Requirement already satisfied: astunparse>=1.6.0 in /usr/local/lib/python3.11/dist-packages (from tensorflow>=1.4.0->-r FigureQA-baseline/requirements.txt (line 4)) (1.6.3)\n",
            "Requirement already satisfied: flatbuffers>=24.3.25 in /usr/local/lib/python3.11/dist-packages (from tensorflow>=1.4.0->-r FigureQA-baseline/requirements.txt (line 4)) (25.2.10)\n",
            "Requirement already satisfied: gast!=0.5.0,!=0.5.1,!=0.5.2,>=0.2.1 in /usr/local/lib/python3.11/dist-packages (from tensorflow>=1.4.0->-r FigureQA-baseline/requirements.txt (line 4)) (0.6.0)\n",
            "Requirement already satisfied: google-pasta>=0.1.1 in /usr/local/lib/python3.11/dist-packages (from tensorflow>=1.4.0->-r FigureQA-baseline/requirements.txt (line 4)) (0.2.0)\n",
            "Requirement already satisfied: libclang>=13.0.0 in /usr/local/lib/python3.11/dist-packages (from tensorflow>=1.4.0->-r FigureQA-baseline/requirements.txt (line 4)) (18.1.1)\n",
            "Requirement already satisfied: opt-einsum>=2.3.2 in /usr/local/lib/python3.11/dist-packages (from tensorflow>=1.4.0->-r FigureQA-baseline/requirements.txt (line 4)) (3.4.0)\n",
            "Requirement already satisfied: protobuf!=4.21.0,!=4.21.1,!=4.21.2,!=4.21.3,!=4.21.4,!=4.21.5,<6.0.0dev,>=3.20.3 in /usr/local/lib/python3.11/dist-packages (from tensorflow>=1.4.0->-r FigureQA-baseline/requirements.txt (line 4)) (4.25.6)\n",
            "Requirement already satisfied: requests<3,>=2.21.0 in /usr/local/lib/python3.11/dist-packages (from tensorflow>=1.4.0->-r FigureQA-baseline/requirements.txt (line 4)) (2.32.3)\n",
            "Requirement already satisfied: setuptools in /usr/local/lib/python3.11/dist-packages (from tensorflow>=1.4.0->-r FigureQA-baseline/requirements.txt (line 4)) (75.1.0)\n",
            "Requirement already satisfied: six>=1.12.0 in /usr/local/lib/python3.11/dist-packages (from tensorflow>=1.4.0->-r FigureQA-baseline/requirements.txt (line 4)) (1.17.0)\n",
            "Requirement already satisfied: termcolor>=1.1.0 in /usr/local/lib/python3.11/dist-packages (from tensorflow>=1.4.0->-r FigureQA-baseline/requirements.txt (line 4)) (2.5.0)\n",
            "Requirement already satisfied: typing-extensions>=3.6.6 in /usr/local/lib/python3.11/dist-packages (from tensorflow>=1.4.0->-r FigureQA-baseline/requirements.txt (line 4)) (4.12.2)\n",
            "Requirement already satisfied: wrapt>=1.11.0 in /usr/local/lib/python3.11/dist-packages (from tensorflow>=1.4.0->-r FigureQA-baseline/requirements.txt (line 4)) (1.17.2)\n",
            "Requirement already satisfied: grpcio<2.0,>=1.24.3 in /usr/local/lib/python3.11/dist-packages (from tensorflow>=1.4.0->-r FigureQA-baseline/requirements.txt (line 4)) (1.70.0)\n",
            "Requirement already satisfied: tensorboard<2.19,>=2.18 in /usr/local/lib/python3.11/dist-packages (from tensorflow>=1.4.0->-r FigureQA-baseline/requirements.txt (line 4)) (2.18.0)\n",
            "Requirement already satisfied: keras>=3.5.0 in /usr/local/lib/python3.11/dist-packages (from tensorflow>=1.4.0->-r FigureQA-baseline/requirements.txt (line 4)) (3.8.0)\n",
            "Requirement already satisfied: h5py>=3.11.0 in /usr/local/lib/python3.11/dist-packages (from tensorflow>=1.4.0->-r FigureQA-baseline/requirements.txt (line 4)) (3.12.1)\n",
            "Requirement already satisfied: ml-dtypes<0.5.0,>=0.4.0 in /usr/local/lib/python3.11/dist-packages (from tensorflow>=1.4.0->-r FigureQA-baseline/requirements.txt (line 4)) (0.4.1)\n",
            "Requirement already satisfied: tensorflow-io-gcs-filesystem>=0.23.1 in /usr/local/lib/python3.11/dist-packages (from tensorflow>=1.4.0->-r FigureQA-baseline/requirements.txt (line 4)) (0.37.1)\n",
            "Requirement already satisfied: wheel<1.0,>=0.23.0 in /usr/local/lib/python3.11/dist-packages (from astunparse>=1.6.0->tensorflow>=1.4.0->-r FigureQA-baseline/requirements.txt (line 4)) (0.45.1)\n",
            "Requirement already satisfied: rich in /usr/local/lib/python3.11/dist-packages (from keras>=3.5.0->tensorflow>=1.4.0->-r FigureQA-baseline/requirements.txt (line 4)) (13.9.4)\n",
            "Requirement already satisfied: namex in /usr/local/lib/python3.11/dist-packages (from keras>=3.5.0->tensorflow>=1.4.0->-r FigureQA-baseline/requirements.txt (line 4)) (0.0.8)\n",
            "Requirement already satisfied: optree in /usr/local/lib/python3.11/dist-packages (from keras>=3.5.0->tensorflow>=1.4.0->-r FigureQA-baseline/requirements.txt (line 4)) (0.14.1)\n",
            "Requirement already satisfied: charset-normalizer<4,>=2 in /usr/local/lib/python3.11/dist-packages (from requests<3,>=2.21.0->tensorflow>=1.4.0->-r FigureQA-baseline/requirements.txt (line 4)) (3.4.1)\n",
            "Requirement already satisfied: idna<4,>=2.5 in /usr/local/lib/python3.11/dist-packages (from requests<3,>=2.21.0->tensorflow>=1.4.0->-r FigureQA-baseline/requirements.txt (line 4)) (3.10)\n",
            "Requirement already satisfied: urllib3<3,>=1.21.1 in /usr/local/lib/python3.11/dist-packages (from requests<3,>=2.21.0->tensorflow>=1.4.0->-r FigureQA-baseline/requirements.txt (line 4)) (2.3.0)\n",
            "Requirement already satisfied: certifi>=2017.4.17 in /usr/local/lib/python3.11/dist-packages (from requests<3,>=2.21.0->tensorflow>=1.4.0->-r FigureQA-baseline/requirements.txt (line 4)) (2025.1.31)\n",
            "Requirement already satisfied: markdown>=2.6.8 in /usr/local/lib/python3.11/dist-packages (from tensorboard<2.19,>=2.18->tensorflow>=1.4.0->-r FigureQA-baseline/requirements.txt (line 4)) (3.7)\n",
            "Requirement already satisfied: tensorboard-data-server<0.8.0,>=0.7.0 in /usr/local/lib/python3.11/dist-packages (from tensorboard<2.19,>=2.18->tensorflow>=1.4.0->-r FigureQA-baseline/requirements.txt (line 4)) (0.7.2)\n",
            "Requirement already satisfied: werkzeug>=1.0.1 in /usr/local/lib/python3.11/dist-packages (from tensorboard<2.19,>=2.18->tensorflow>=1.4.0->-r FigureQA-baseline/requirements.txt (line 4)) (3.1.3)\n",
            "Requirement already satisfied: MarkupSafe>=2.1.1 in /usr/local/lib/python3.11/dist-packages (from werkzeug>=1.0.1->tensorboard<2.19,>=2.18->tensorflow>=1.4.0->-r FigureQA-baseline/requirements.txt (line 4)) (3.0.2)\n",
            "Requirement already satisfied: markdown-it-py>=2.2.0 in /usr/local/lib/python3.11/dist-packages (from rich->keras>=3.5.0->tensorflow>=1.4.0->-r FigureQA-baseline/requirements.txt (line 4)) (3.0.0)\n",
            "Requirement already satisfied: pygments<3.0.0,>=2.13.0 in /usr/local/lib/python3.11/dist-packages (from rich->keras>=3.5.0->tensorflow>=1.4.0->-r FigureQA-baseline/requirements.txt (line 4)) (2.18.0)\n",
            "Requirement already satisfied: mdurl~=0.1 in /usr/local/lib/python3.11/dist-packages (from markdown-it-py>=2.2.0->rich->keras>=3.5.0->tensorflow>=1.4.0->-r FigureQA-baseline/requirements.txt (line 4)) (0.1.2)\n"
          ]
        }
      ]
    },
    {
      "cell_type": "code",
      "source": [
        "%cd .."
      ],
      "metadata": {
        "colab": {
          "base_uri": "https://localhost:8080/"
        },
        "id": "6PO6IQTr90sr",
        "outputId": "09d2c223-9f8b-44f5-f610-9fbe75f9e935"
      },
      "execution_count": 101,
      "outputs": [
        {
          "output_type": "stream",
          "name": "stdout",
          "text": [
            "/content\n"
          ]
        }
      ]
    },
    {
      "cell_type": "code",
      "source": [
        "!mkdir FigureQA-baseline/FigureQA"
      ],
      "metadata": {
        "colab": {
          "base_uri": "https://localhost:8080/"
        },
        "id": "jvZwxgih-Unr",
        "outputId": "9d27c12c-7b80-4519-ce42-4f9b04fe199c"
      },
      "execution_count": 103,
      "outputs": [
        {
          "output_type": "stream",
          "name": "stdout",
          "text": [
            "mkdir: cannot create directory ‘FigureQA-baseline/FigureQA’: File exists\n"
          ]
        }
      ]
    },
    {
      "cell_type": "markdown",
      "source": [],
      "metadata": {
        "id": "2gllD5Vib9AC"
      }
    },
    {
      "cell_type": "code",
      "source": [
        "!mv /content/drive/MyDrive/figureqa-validation1-v1.tar.gz FigureQA-baseline/FigureQA"
      ],
      "metadata": {
        "id": "Yb1jBu-d93yD"
      },
      "execution_count": null,
      "outputs": []
    },
    {
      "cell_type": "code",
      "source": [
        "%cd FigureQA-baseline/"
      ],
      "metadata": {
        "colab": {
          "base_uri": "https://localhost:8080/"
        },
        "id": "eHbe21gMJcU0",
        "outputId": "c3fb34e5-a08e-46f5-df6e-fc8d872d4e3b"
      },
      "execution_count": 105,
      "outputs": [
        {
          "output_type": "stream",
          "name": "stdout",
          "text": [
            "/content/FigureQA-baseline\n"
          ]
        }
      ]
    },
    {
      "cell_type": "code",
      "source": [
        "!pwd"
      ],
      "metadata": {
        "colab": {
          "base_uri": "https://localhost:8080/"
        },
        "id": "-Qm_l6GNJtQ1",
        "outputId": "34f979e7-1ce5-432d-f491-c7e9ff455cdd"
      },
      "execution_count": 106,
      "outputs": [
        {
          "output_type": "stream",
          "name": "stdout",
          "text": [
            "/content/FigureQA-baseline\n"
          ]
        }
      ]
    },
    {
      "cell_type": "code",
      "source": [
        "!python -u train_model_on_figureqa.py --data-path '' --tmp-path 'temp-path' --model rn --num-gpus 1 --val-set 'validation1'"
      ],
      "metadata": {
        "colab": {
          "base_uri": "https://localhost:8080/"
        },
        "id": "9eaOO0Y5Jh69",
        "outputId": "60bdd0f3-c831-4569-b0ba-31dccbc34474"
      },
      "execution_count": 112,
      "outputs": [
        {
          "output_type": "stream",
          "name": "stdout",
          "text": [
            "2025-03-08 00:49:40.874892: E external/local_xla/xla/stream_executor/cuda/cuda_fft.cc:477] Unable to register cuFFT factory: Attempting to register factory for plugin cuFFT when one has already been registered\n",
            "WARNING: All log messages before absl::InitializeLog() is called are written to STDERR\n",
            "E0000 00:00:1741394980.951774  112164 cuda_dnn.cc:8310] Unable to register cuDNN factory: Attempting to register factory for plugin cuDNN when one has already been registered\n",
            "E0000 00:00:1741394980.974858  112164 cuda_blas.cc:1418] Unable to register cuBLAS factory: Attempting to register factory for plugin cuBLAS when one has already been registered\n",
            "2025-03-08 00:49:41.051629: I tensorflow/core/platform/cpu_feature_guard.cc:210] This TensorFlow binary is optimized to use available CPU instructions in performance-critical operations.\n",
            "To enable the following instructions: AVX2 FMA, in other operations, rebuild TensorFlow with the appropriate compiler flags.\n",
            "loading training data...\n",
            "trying to load dictionary from figureqa_dict.json...\n",
            "building inverse dictionary...\n",
            "tokenizing questions...\n",
            "100% 1327368/1327368 [00:09<00:00, 138013.36it/s]\n",
            "100% 1327368/1327368 [00:03<00:00, 334605.67it/s]\n",
            "creating sparse tensor for questions...\n",
            "adding image filenames and questions to sub dataset list...\n",
            "adding answers to sub dataset list...\n",
            "zipping up sub datasets...\n",
            "shuffling dataset...\n",
            "adding input parser to dataset pipeline\n",
            "2025-03-08 00:51:21.907733: E external/local_xla/xla/stream_executor/cuda/cuda_driver.cc:152] failed call to cuInit: INTERNAL: CUDA error: Failed call to cuInit: UNKNOWN ERROR (303)\n",
            "batching...\n",
            "loading validation data... validation1\n",
            "trying to load dictionary from figureqa_dict.json...\n",
            "building inverse dictionary...\n",
            "tokenizing questions...\n",
            "100% 265106/265106 [00:01<00:00, 137798.37it/s]\n",
            "100% 265106/265106 [00:00<00:00, 788914.23it/s]\n",
            "creating sparse tensor for questions...\n",
            "adding image filenames and questions to sub dataset list...\n",
            "adding answers to sub dataset list...\n",
            "zipping up sub datasets...\n",
            "shuffling dataset...\n",
            "adding input parser to dataset pipeline\n",
            "batching...\n",
            "building model graph...\n",
            "WARNING: All log messages before absl::InitializeLog() is called are written to STDERR\n",
            "I0000 00:00:1741395112.583259  112164 mlir_graph_optimization_pass.cc:401] MLIR V1 optimization pass is not enabled\n",
            "Traceback (most recent call last):\n",
            "  File \"/content/FigureQA-baseline/train_model_on_figureqa.py\", line 257, in <module>\n",
            "    loss, accuracies, predicted_answers, grads_list = parallelize(\n",
            "                                                      ^^^^^^^^^^^^\n",
            "  File \"/content/FigureQA-baseline/util/tf_util.py\", line 32, in parallelize\n",
            "    fn(**{k: v[g] for k, v in parts.items()})\n",
            "  File \"/content/FigureQA-baseline/train_model_on_figureqa.py\", line 229, in compute_grads_fn\n",
            "    loss_val, accuracies_vals, predicted_answers = model.loss(**kwargs)\n",
            "                                                   ^^^^^^^^^^^^^^^^^^^^\n",
            "  File \"/content/FigureQA-baseline/util/decorators.py\", line 14, in decorator\n",
            "    rval = function(self, *args, **kwargs)\n",
            "           ^^^^^^^^^^^^^^^^^^^^^^^^^^^^^^^\n",
            "  File \"/content/FigureQA-baseline/models/rn.py\", line 408, in loss\n",
            "    predicted_probs, predicted_answers = self.inference(\n",
            "                                         ^^^^^^^^^^^^^^^\n",
            "  File \"/content/FigureQA-baseline/util/decorators.py\", line 14, in decorator\n",
            "    rval = function(self, *args, **kwargs)\n",
            "           ^^^^^^^^^^^^^^^^^^^^^^^^^^^^^^^\n",
            "  File \"/content/FigureQA-baseline/models/rn.py\", line 360, in inference\n",
            "    q = self._question_encoder(q=q, qlen=qlen)\n",
            "        ^^^^^^^^^^^^^^^^^^^^^^^^^^^^^^^^^^^^^^\n",
            "  File \"/content/FigureQA-baseline/util/decorators.py\", line 14, in decorator\n",
            "    rval = function(self, *args, **kwargs)\n",
            "           ^^^^^^^^^^^^^^^^^^^^^^^^^^^^^^^\n",
            "  File \"/content/FigureQA-baseline/models/rn.py\", line 137, in _question_encoder\n",
            "    q = rnn_layer(q, mask=tf.sequence_mask(qlen))\n",
            "        ^^^^^^^^^^^^^^^^^^^^^^^^^^^^^^^^^^^^^^^^^\n",
            "  File \"/usr/local/lib/python3.11/dist-packages/keras/src/utils/traceback_utils.py\", line 122, in error_handler\n",
            "    raise e.with_traceback(filtered_tb) from None\n",
            "  File \"/usr/local/lib/python3.11/dist-packages/keras/src/backend/common/variables.py\", line 209, in _validate_shape\n",
            "    raise ValueError(\n",
            "ValueError: Shapes used to initialize variables must be fully-defined (no `None` dimensions). Received: shape=(None, 1024) for variable path='rnn/lstm/lstm_cell/kernel'\n"
          ]
        }
      ]
    },
    {
      "cell_type": "code",
      "source": [
        "!python train_model_on_figureqa.py --help"
      ],
      "metadata": {
        "colab": {
          "base_uri": "https://localhost:8080/"
        },
        "id": "_uBj9ZP1mJwP",
        "outputId": "02b78f1e-52ac-4bb7-e235-28571afe4ed4"
      },
      "execution_count": null,
      "outputs": [
        {
          "output_type": "stream",
          "name": "stdout",
          "text": [
            "2025-03-07 19:05:01.230040: E external/local_xla/xla/stream_executor/cuda/cuda_fft.cc:477] Unable to register cuFFT factory: Attempting to register factory for plugin cuFFT when one has already been registered\n",
            "WARNING: All log messages before absl::InitializeLog() is called are written to STDERR\n",
            "E0000 00:00:1741374301.271541   27938 cuda_dnn.cc:8310] Unable to register cuDNN factory: Attempting to register factory for plugin cuDNN when one has already been registered\n",
            "E0000 00:00:1741374301.283872   27938 cuda_blas.cc:1418] Unable to register cuBLAS factory: Attempting to register factory for plugin cuBLAS when one has already been registered\n",
            "2025-03-07 19:05:01.325280: I tensorflow/core/platform/cpu_feature_guard.cc:210] This TensorFlow binary is optimized to use available CPU instructions in performance-critical operations.\n",
            "To enable the following instructions: AVX2 FMA, in other operations, rebuild TensorFlow with the appropriate compiler flags.\n",
            "usage: train_model_on_figureqa.py [-h] [--model {rn,cnn,text}] --data-path DATA_PATH\n",
            "                                  [--tmp-path TMP_PATH] [--num-gpus NUM_GPUS]\n",
            "                                  [--log-device-placement] [--tfdbg] [--backup-path BACKUP_PATH]\n",
            "                                  [--val-set {validation1,validation2}]\n",
            "\n",
            "options:\n",
            "  -h, --help            show this help message and exit\n",
            "  --model {rn,cnn,text}\n",
            "                        rn: Relation Network cnn: CNN+LSTM text: text-only\n",
            "  --data-path DATA_PATH\n",
            "                        parent folder of where the data set is located\n",
            "  --tmp-path TMP_PATH   tmp directory where to extract data set (optimally on faster storage, if\n",
            "                        not specified DATA_PATH is used)\n",
            "  --num-gpus NUM_GPUS   the number of gpus to use\n",
            "  --log-device-placement\n",
            "                        whether to print the device placement of each variable.\n",
            "  --tfdbg               whether to run the TF debugger\n",
            "  --backup-path BACKUP_PATH\n",
            "                        backup root dir for long-term storage of parameters\n",
            "  --val-set {validation1,validation2}\n",
            "                        which validation set to use.\n"
          ]
        }
      ]
    },
    {
      "cell_type": "code",
      "source": [
        "%ls"
      ],
      "metadata": {
        "colab": {
          "base_uri": "https://localhost:8080/"
        },
        "id": "QfDwqmEZ9yt7",
        "outputId": "64d248f5-9653-459a-83c1-839deeb50444"
      },
      "execution_count": null,
      "outputs": [
        {
          "output_type": "stream",
          "name": "stdout",
          "text": [
            "\u001b[0m\u001b[01;34mdrive\u001b[0m/  \u001b[01;34mFigureQA-baseline\u001b[0m/  \u001b[01;34msample_data\u001b[0m/\n"
          ]
        }
      ]
    },
    {
      "cell_type": "code",
      "source": [
        "%cd content/"
      ],
      "metadata": {
        "colab": {
          "base_uri": "https://localhost:8080/"
        },
        "id": "MmHWsUJP-9yp",
        "outputId": "d13b5e06-9644-474d-d6dc-e9df5992cd35"
      },
      "execution_count": null,
      "outputs": [
        {
          "output_type": "stream",
          "name": "stdout",
          "text": [
            "/content\n"
          ]
        }
      ]
    },
    {
      "cell_type": "code",
      "source": [
        "%cd .."
      ],
      "metadata": {
        "colab": {
          "base_uri": "https://localhost:8080/"
        },
        "id": "FBpzHUo5_A3h",
        "outputId": "0b1eb7d5-2105-4bd0-8f41-abe4d6527652"
      },
      "execution_count": null,
      "outputs": [
        {
          "output_type": "stream",
          "name": "stdout",
          "text": [
            "/content\n"
          ]
        }
      ]
    },
    {
      "cell_type": "code",
      "source": [
        "!rm -rf FigureQA-baseline/"
      ],
      "metadata": {
        "id": "Wgq5Cnd9mKNg"
      },
      "execution_count": null,
      "outputs": []
    },
    {
      "cell_type": "code",
      "source": [
        "!mkdir -p temp-path/FigureQA/validation1"
      ],
      "metadata": {
        "id": "qUDCCyR3Jxit"
      },
      "execution_count": null,
      "outputs": []
    },
    {
      "cell_type": "code",
      "source": [
        "%rm FigureQA-baseline/temp-path/FigureQA/.done"
      ],
      "metadata": {
        "id": "5NSe4QCCOyoo"
      },
      "execution_count": null,
      "outputs": []
    },
    {
      "cell_type": "code",
      "source": [],
      "metadata": {
        "id": "8GVaRvxkO2Nu"
      },
      "execution_count": null,
      "outputs": []
    }
  ]
}